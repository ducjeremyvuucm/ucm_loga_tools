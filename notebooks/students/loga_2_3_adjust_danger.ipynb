{
 "cells": [
  {
   "cell_type": "code",
   "execution_count": 1,
   "metadata": {},
   "outputs": [],
   "source": [
    "\n",
    "\n",
    "%%capture\n",
    "%load_ext autoreload\n",
    "%autoreload 2\n",
    "\n",
    "\n",
    "import numpy as np\n",
    "import pandas as pd\n",
    "import os\n",
    "import sys\n",
    "from dotenv import load_dotenv\n",
    "from pathlib import Path\n",
    "import datetime as d \n",
    "load_dotenv()\n",
    "\n",
    "# get the current directory\n",
    "current_dir = os.getcwd()\n",
    "\n",
    "# change the current working directory to the parent directory\n",
    "os.chdir(os.path.dirname(current_dir))\n",
    "\n",
    "path = os.getcwd()\n",
    "parent = os.path.abspath(os.path.join(path, os.pardir))\n",
    "\n",
    "USRPATH = \"/Users/ducjeremyvu/dev/\"\n",
    "\n",
    "\n",
    "sys.path.append(Path().absolute().parent)\n",
    "sys.path.append(\"/Users/ducjeremyvu/dev/wspace/nb\")\n",
    "sys.path.append(parent)\n",
    "sys.path.append(...)\n",
    "\n",
    "os.getcwd()\n",
    "\n",
    "\n",
    "# from g_api import gservice\n"
   ]
  },
  {
   "attachments": {},
   "cell_type": "markdown",
   "metadata": {},
   "source": [
    "# Template\n"
   ]
  },
  {
   "cell_type": "code",
   "execution_count": 2,
   "metadata": {},
   "outputs": [],
   "source": [
    "import re\n",
    "folder_path = \"/Users/ducjeremyvu/Downloads/ucmdownload/PR_202411_135\"\n",
    "\n",
    "# Compile the regex pattern to find the substring between numbers_underscore and .csv\n",
    "pattern = re.compile(r'\\d+_\\d+_(.*?)\\.csv')\n",
    "\n",
    "\n",
    "# Dictionary comprehension to extract the desired part from filename\n",
    "folder_extract = {pattern.search(file.name).group(1): file \n",
    "                  for file in Path(folder_path).glob(\"*.csv\") \n",
    "                  if pattern.search(file.name)}\n",
    "\n",
    "\n",
    "\n",
    "\n",
    "\n",
    "# Dictionary comprehension to read CSV files into pandas DataFrames\n",
    "csv_read = {key: pd.read_csv(path, sep=\";\", dtype=str)\n",
    "            for key, path in folder_extract.items()}\n",
    "\n",
    "\n",
    "danger = csv_read.get(\"danger\")"
   ]
  },
  {
   "cell_type": "code",
   "execution_count": 3,
   "metadata": {},
   "outputs": [],
   "source": [
    "\n",
    "stem = str(folder_extract.get(\"danger\")).split(\".\")[0]\n",
    "\n",
    "data = danger\n",
    "\n",
    "\n",
    "data[\"PRCVAB\"] = '2021-01-01'\n",
    "data[\"VBBGABW\"] = \"5009\"\n",
    "\n",
    "data\n",
    "data.to_csv(f'{stem}_edit.csv', index=False, sep=\";\")"
   ]
  },
  {
   "cell_type": "code",
   "execution_count": null,
   "metadata": {},
   "outputs": [],
   "source": []
  },
  {
   "cell_type": "code",
   "execution_count": null,
   "metadata": {},
   "outputs": [],
   "source": []
  }
 ],
 "metadata": {
  "kernelspec": {
   "display_name": ".venv",
   "language": "python",
   "name": "python3"
  },
  "language_info": {
   "codemirror_mode": {
    "name": "ipython",
    "version": 3
   },
   "file_extension": ".py",
   "mimetype": "text/x-python",
   "name": "python",
   "nbconvert_exporter": "python",
   "pygments_lexer": "ipython3",
   "version": "3.10.15"
  }
 },
 "nbformat": 4,
 "nbformat_minor": 4
}
